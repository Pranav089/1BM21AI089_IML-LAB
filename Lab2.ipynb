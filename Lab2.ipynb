{
  "nbformat": 4,
  "nbformat_minor": 0,
  "metadata": {
    "colab": {
      "provenance": []
    },
    "kernelspec": {
      "name": "python3",
      "display_name": "Python 3"
    },
    "language_info": {
      "name": "python"
    }
  },
  "cells": [
    {
      "cell_type": "code",
      "execution_count": 6,
      "metadata": {
        "colab": {
          "base_uri": "https://localhost:8080/"
        },
        "id": "oxZ6TU9D0A-X",
        "outputId": "3b3b9e7c-54c5-474d-b4f5-90a7b65f5739"
      },
      "outputs": [
        {
          "output_type": "stream",
          "name": "stdout",
          "text": [
            "\n",
            "Instances are:\n",
            " [['some' 'small' 'no' 'affordable' 'one']\n",
            " ['many' 'big' 'no' 'expensive' 'many']\n",
            " ['many' 'medium' 'no' 'expensive' 'few']\n",
            " ['many' 'small' 'no' 'affordable' 'many']]\n",
            "\n",
            "Target Values are:  ['no' 'yes' 'yes' 'yes']\n",
            "\n",
            "Initialization of specific_h and genearal_h\n",
            "\n",
            "Specific Boundary:  ['some' 'small' 'no' 'affordable' 'one']\n",
            "\n",
            "Generic Boundary:  [['?', '?', '?', '?', '?'], ['?', '?', '?', '?', '?'], ['?', '?', '?', '?', '?'], ['?', '?', '?', '?', '?'], ['?', '?', '?', '?', '?']]\n",
            "\n",
            "Instance 1 is  ['some' 'small' 'no' 'affordable' 'one']\n",
            "Instance is Negative \n",
            "Specific Bundary after  1 Instance is  ['some' 'small' 'no' 'affordable' 'one']\n",
            "Generic Boundary after  1 Instance is  [['?', '?', '?', '?', '?'], ['?', '?', '?', '?', '?'], ['?', '?', '?', '?', '?'], ['?', '?', '?', '?', '?'], ['?', '?', '?', '?', '?']]\n",
            "\n",
            "\n",
            "\n",
            "Instance 2 is  ['many' 'big' 'no' 'expensive' 'many']\n",
            "Instance is Positive \n",
            "Specific Bundary after  2 Instance is  ['?' '?' 'no' '?' '?']\n",
            "Generic Boundary after  2 Instance is  [['?', '?', '?', '?', '?'], ['?', '?', '?', '?', '?'], ['?', '?', '?', '?', '?'], ['?', '?', '?', '?', '?'], ['?', '?', '?', '?', '?']]\n",
            "\n",
            "\n",
            "\n",
            "Instance 3 is  ['many' 'medium' 'no' 'expensive' 'few']\n",
            "Instance is Positive \n",
            "Specific Bundary after  3 Instance is  ['?' '?' 'no' '?' '?']\n",
            "Generic Boundary after  3 Instance is  [['?', '?', '?', '?', '?'], ['?', '?', '?', '?', '?'], ['?', '?', '?', '?', '?'], ['?', '?', '?', '?', '?'], ['?', '?', '?', '?', '?']]\n",
            "\n",
            "\n",
            "\n",
            "Instance 4 is  ['many' 'small' 'no' 'affordable' 'many']\n",
            "Instance is Positive \n",
            "Specific Bundary after  4 Instance is  ['?' '?' 'no' '?' '?']\n",
            "Generic Boundary after  4 Instance is  [['?', '?', '?', '?', '?'], ['?', '?', '?', '?', '?'], ['?', '?', '?', '?', '?'], ['?', '?', '?', '?', '?'], ['?', '?', '?', '?', '?']]\n",
            "\n",
            "\n",
            "Final Specific_h: \n",
            "['?' '?' 'no' '?' '?']\n",
            "Final General_h: \n",
            "[['?', '?', '?', '?', '?'], ['?', '?', '?', '?', '?'], ['?', '?', '?', '?', '?'], ['?', '?', '?', '?', '?'], ['?', '?', '?', '?', '?']]\n"
          ]
        }
      ],
      "source": [
        "import numpy as np\n",
        "import pandas as pd\n",
        "\n",
        "data = pd.read_csv(\"cit.csv\")\n",
        "concepts = np.array(data.iloc[:,0:-1])\n",
        "print(\"\\nInstances are:\\n\",concepts)\n",
        "target = np.array(data.iloc[:,-1])\n",
        "print(\"\\nTarget Values are: \",target)\n",
        "\n",
        "def learn(concepts, target):\n",
        "    specific_h = concepts[0].copy()\n",
        "    print(\"\\nInitialization of specific_h and genearal_h\")\n",
        "    print(\"\\nSpecific Boundary: \", specific_h)\n",
        "    general_h = [[\"?\" for i in range(len(specific_h))] for i in range(len(specific_h))]\n",
        "    print(\"\\nGeneric Boundary: \",general_h)\n",
        "\n",
        "    for i, h in enumerate(concepts):\n",
        "        print(\"\\nInstance\", i+1 , \"is \", h)\n",
        "        if target[i] == \"yes\":\n",
        "            print(\"Instance is Positive \")\n",
        "            for x in range(len(specific_h)):\n",
        "                if h[x]!= specific_h[x]:\n",
        "                    specific_h[x] ='?'\n",
        "                    general_h[x][x] ='?'\n",
        "\n",
        "        if target[i] == \"no\":\n",
        "            print(\"Instance is Negative \")\n",
        "            for x in range(len(specific_h)):\n",
        "                if h[x]!= specific_h[x]:\n",
        "                    general_h[x][x] = specific_h[x]\n",
        "                else:\n",
        "                    general_h[x][x] = '?'\n",
        "\n",
        "        print(\"Specific Bundary after \", i+1, \"Instance is \", specific_h)\n",
        "        print(\"Generic Boundary after \", i+1, \"Instance is \", general_h)\n",
        "        print(\"\\n\")\n",
        "\n",
        "    indices = [i for i, val in enumerate(general_h) if val == ['?', '?', '?', '?', '?', '?']]\n",
        "    for i in indices:\n",
        "        general_h.remove(['?', '?', '?', '?', '?', '?'])\n",
        "    return specific_h, general_h\n",
        "\n",
        "s_final, g_final = learn(concepts, target)\n",
        "\n",
        "print(\"Final Specific_h: \", s_final, sep=\"\\n\")\n",
        "print(\"Final General_h: \", g_final, sep=\"\\n\")"
      ]
    },
    {
      "cell_type": "code",
      "source": [],
      "metadata": {
        "id": "D1M1wCjzAQKd"
      },
      "execution_count": null,
      "outputs": []
    }
  ]
}